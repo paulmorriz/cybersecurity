{
  "nbformat": 4,
  "nbformat_minor": 0,
  "metadata": {
    "colab": {
      "provenance": [],
      "authorship_tag": "ABX9TyNf3eJDI0AMRc43IvfsUSqt",
      "include_colab_link": true
    },
    "kernelspec": {
      "name": "python3",
      "display_name": "Python 3"
    },
    "language_info": {
      "name": "python"
    }
  },
  "cells": [
    {
      "cell_type": "markdown",
      "metadata": {
        "id": "view-in-github",
        "colab_type": "text"
      },
      "source": [
        "<a href=\"https://colab.research.google.com/github/paulmorriz/cybersecurity/blob/main/module3.ipynb\" target=\"_parent\"><img src=\"https://colab.research.google.com/assets/colab-badge.svg\" alt=\"Open In Colab\"/></a>"
      ]
    },
    {
      "cell_type": "code",
      "source": [
        "#convert an interger into a string\n",
        "new_string = str (123)\n",
        "print(type(new_string))"
      ],
      "metadata": {
        "colab": {
          "base_uri": "https://localhost:8080/"
        },
        "id": "LkDXWuBREXhe",
        "outputId": "9c412151-85dc-40ae-8221-739e1cc6e30e"
      },
      "execution_count": null,
      "outputs": [
        {
          "output_type": "stream",
          "name": "stdout",
          "text": [
            "<class 'str'>\n"
          ]
        }
      ]
    },
    {
      "cell_type": "code",
      "source": [
        "#Print the length of a string \"Hello\"\n",
        "print(len(\"Hello\"))\n"
      ],
      "metadata": {
        "colab": {
          "base_uri": "https://localhost:8080/"
        },
        "id": "ZOlfZ8zdGNe6",
        "outputId": "672ffc4d-f884-4859-b09f-800f60123a15"
      },
      "execution_count": null,
      "outputs": [
        {
          "output_type": "stream",
          "name": "stdout",
          "text": [
            "5\n"
          ]
        }
      ]
    },
    {
      "cell_type": "code",
      "source": [
        "#Concatenate two strings\n",
        "print(\"Hello\" + \"world\")"
      ],
      "metadata": {
        "colab": {
          "base_uri": "https://localhost:8080/"
        },
        "id": "ra6g9Ua-GXhg",
        "outputId": "17ed318e-646c-40e7-b336-15b2c2805753"
      },
      "execution_count": null,
      "outputs": [
        {
          "output_type": "stream",
          "name": "stdout",
          "text": [
            "Helloworld\n"
          ]
        }
      ]
    },
    {
      "cell_type": "code",
      "source": [
        "#Apply upper method to \"Hello\"\n",
        "print(\"Hello\".upper())"
      ],
      "metadata": {
        "colab": {
          "base_uri": "https://localhost:8080/"
        },
        "id": "kLQEVr2GGbGH",
        "outputId": "69a199e4-5bdb-40f6-a0e1-ec1e26518f61"
      },
      "execution_count": null,
      "outputs": [
        {
          "output_type": "stream",
          "name": "stdout",
          "text": [
            "HELLO\n"
          ]
        }
      ]
    },
    {
      "cell_type": "code",
      "source": [
        "#Apply upper method to \"Hello\"\n",
        "print(\"Hello\".lower())"
      ],
      "metadata": {
        "colab": {
          "base_uri": "https://localhost:8080/"
        },
        "id": "2UchdFGnGeGI",
        "outputId": "b258c3f1-e9a1-4c5f-aa20-29e0be9684f7"
      },
      "execution_count": null,
      "outputs": [
        {
          "output_type": "stream",
          "name": "stdout",
          "text": [
            "hello\n"
          ]
        }
      ]
    },
    {
      "cell_type": "code",
      "source": [
        "#Using indices\n",
        "\"Hello\"[1]"
      ],
      "metadata": {
        "colab": {
          "base_uri": "https://localhost:8080/",
          "height": 36
        },
        "id": "OQ3bZ0WOHx0L",
        "outputId": "6a76ea23-67a0-42db-e4c3-527e18158468"
      },
      "execution_count": null,
      "outputs": [
        {
          "output_type": "execute_result",
          "data": {
            "text/plain": [
              "'e'"
            ],
            "application/vnd.google.colaboratory.intrinsic+json": {
              "type": "string"
            }
          },
          "metadata": {},
          "execution_count": 8
        }
      ]
    },
    {
      "cell_type": "code",
      "source": [
        "#Extract a slice from a string\n",
        "print(\"HELLO\"[1:4])"
      ],
      "metadata": {
        "colab": {
          "base_uri": "https://localhost:8080/"
        },
        "id": "zGG4K3SBITV5",
        "outputId": "39a55f36-d164-42ea-a5eb-3038bc9da01d"
      },
      "execution_count": null,
      "outputs": [
        {
          "output_type": "stream",
          "name": "stdout",
          "text": [
            "ELL\n"
          ]
        }
      ]
    },
    {
      "cell_type": "code",
      "source": [
        "#Use the index string method\n",
        "\"\"\" how to search in a string. To do this,\n",
        "we need to use the index method. The index method finds\n",
        "the first occurrence of the input in a string and returns its location.\n",
        "Let's practice using the index method in Python. \"\"\"\n",
        "\n",
        "\n",
        "print(\"HELLO\".index(\"E\"))\n",
        "\n",
        "***Maksudnya adalah bahwa huruf E ada di index nomor 1\n",
        " BUKAN jumlah dari hurufnya sebanyak 1.***"
      ],
      "metadata": {
        "colab": {
          "base_uri": "https://localhost:8080/"
        },
        "id": "eVknhjgzJPwZ",
        "outputId": "1cf758ac-b5a9-4d24-a189-e1603832f3eb"
      },
      "execution_count": null,
      "outputs": [
        {
          "output_type": "stream",
          "name": "stdout",
          "text": [
            "1\n"
          ]
        }
      ]
    },
    {
      "cell_type": "code",
      "source": [
        "#Use the index string method\n",
        "print(\"HELLO\".index(\"L\"))\n",
        "\n",
        "***Maksudnya adalah bahwa huruf L ada di posisi index nomor 2\n",
        "BUKAN jumlah dari huruf L sebanyak 2. Dan yang dikeluarkan di index\n",
        "adalah L yang ada di posisi index 2, L di posisi 3 tidak dikeluarkan\n",
        "di output walaupun L juga ada di posisi 3.***\n"
      ],
      "metadata": {
        "colab": {
          "base_uri": "https://localhost:8080/"
        },
        "id": "sbQ7NKBFJyAE",
        "outputId": "532c51b5-6d46-400c-fdb8-87fb3cc589eb"
      },
      "execution_count": null,
      "outputs": [
        {
          "output_type": "stream",
          "name": "stdout",
          "text": [
            "2\n"
          ]
        }
      ]
    },
    {
      "cell_type": "code",
      "source": [
        "#Strings are immutable,\n",
        "#can't be changed after it's created and assigned a value\n",
        "\n",
        "my_string = \"HELLO\"\n",
        "my_string[1] = \"A\""
      ],
      "metadata": {
        "colab": {
          "base_uri": "https://localhost:8080/",
          "height": 210
        },
        "id": "90YA64NRLXyq",
        "outputId": "04f2ca8b-bdb3-4eb5-a1bd-10cc128dc6db"
      },
      "execution_count": null,
      "outputs": [
        {
          "output_type": "error",
          "ename": "TypeError",
          "evalue": "'str' object does not support item assignment",
          "traceback": [
            "\u001b[0;31m---------------------------------------------------------------------------\u001b[0m",
            "\u001b[0;31mTypeError\u001b[0m                                 Traceback (most recent call last)",
            "\u001b[0;32m<ipython-input-19-e793af5fa929>\u001b[0m in \u001b[0;36m<cell line: 5>\u001b[0;34m()\u001b[0m\n\u001b[1;32m      3\u001b[0m \u001b[0;34m\u001b[0m\u001b[0m\n\u001b[1;32m      4\u001b[0m \u001b[0mmy_string\u001b[0m \u001b[0;34m=\u001b[0m \u001b[0;34m\"HELLO\"\u001b[0m\u001b[0;34m\u001b[0m\u001b[0;34m\u001b[0m\u001b[0m\n\u001b[0;32m----> 5\u001b[0;31m \u001b[0mmy_string\u001b[0m\u001b[0;34m[\u001b[0m\u001b[0;36m1\u001b[0m\u001b[0;34m]\u001b[0m \u001b[0;34m=\u001b[0m \u001b[0;34m\"A\"\u001b[0m\u001b[0;34m\u001b[0m\u001b[0;34m\u001b[0m\u001b[0m\n\u001b[0m",
            "\u001b[0;31mTypeError\u001b[0m: 'str' object does not support item assignment"
          ]
        }
      ]
    }
  ]
}