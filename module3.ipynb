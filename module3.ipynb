{
  "nbformat": 4,
  "nbformat_minor": 0,
  "metadata": {
    "colab": {
      "provenance": [],
      "authorship_tag": "ABX9TyMiB4iSU1YIzggudm0RaA/G",
      "include_colab_link": true
    },
    "kernelspec": {
      "name": "python3",
      "display_name": "Python 3"
    },
    "language_info": {
      "name": "python"
    }
  },
  "cells": [
    {
      "cell_type": "markdown",
      "metadata": {
        "id": "view-in-github",
        "colab_type": "text"
      },
      "source": [
        "<a href=\"https://colab.research.google.com/github/paulmorriz/cybersecurity/blob/main/module3.ipynb\" target=\"_parent\"><img src=\"https://colab.research.google.com/assets/colab-badge.svg\" alt=\"Open In Colab\"/></a>"
      ]
    },
    {
      "cell_type": "code",
      "source": [
        "#convert an interger into a string\n",
        "new_string = str (123)\n",
        "print(type(new_string))"
      ],
      "metadata": {
        "colab": {
          "base_uri": "https://localhost:8080/"
        },
        "id": "LkDXWuBREXhe",
        "outputId": "9c412151-85dc-40ae-8221-739e1cc6e30e"
      },
      "execution_count": null,
      "outputs": [
        {
          "output_type": "stream",
          "name": "stdout",
          "text": [
            "<class 'str'>\n"
          ]
        }
      ]
    },
    {
      "cell_type": "code",
      "source": [
        "#Print the length of a string \"Hello\"\n",
        "print(len(\"Hello\"))\n"
      ],
      "metadata": {
        "colab": {
          "base_uri": "https://localhost:8080/"
        },
        "id": "ZOlfZ8zdGNe6",
        "outputId": "672ffc4d-f884-4859-b09f-800f60123a15"
      },
      "execution_count": null,
      "outputs": [
        {
          "output_type": "stream",
          "name": "stdout",
          "text": [
            "5\n"
          ]
        }
      ]
    },
    {
      "cell_type": "code",
      "source": [
        "#Concatenate two strings\n",
        "print(\"Hello\" + \"world\")"
      ],
      "metadata": {
        "colab": {
          "base_uri": "https://localhost:8080/"
        },
        "id": "ra6g9Ua-GXhg",
        "outputId": "17ed318e-646c-40e7-b336-15b2c2805753"
      },
      "execution_count": null,
      "outputs": [
        {
          "output_type": "stream",
          "name": "stdout",
          "text": [
            "Helloworld\n"
          ]
        }
      ]
    },
    {
      "cell_type": "code",
      "source": [
        "#Apply upper method to \"Hello\"\n",
        "print(\"Hello\".upper())"
      ],
      "metadata": {
        "colab": {
          "base_uri": "https://localhost:8080/"
        },
        "id": "kLQEVr2GGbGH",
        "outputId": "69a199e4-5bdb-40f6-a0e1-ec1e26518f61"
      },
      "execution_count": null,
      "outputs": [
        {
          "output_type": "stream",
          "name": "stdout",
          "text": [
            "HELLO\n"
          ]
        }
      ]
    },
    {
      "cell_type": "code",
      "source": [
        "#Apply upper method to \"Hello\"\n",
        "print(\"Hello\".lower())"
      ],
      "metadata": {
        "colab": {
          "base_uri": "https://localhost:8080/"
        },
        "id": "2UchdFGnGeGI",
        "outputId": "b258c3f1-e9a1-4c5f-aa20-29e0be9684f7"
      },
      "execution_count": null,
      "outputs": [
        {
          "output_type": "stream",
          "name": "stdout",
          "text": [
            "hello\n"
          ]
        }
      ]
    },
    {
      "cell_type": "code",
      "source": [
        "#Using indices\n",
        "\"Hello\"[1]"
      ],
      "metadata": {
        "colab": {
          "base_uri": "https://localhost:8080/",
          "height": 36
        },
        "id": "OQ3bZ0WOHx0L",
        "outputId": "6a76ea23-67a0-42db-e4c3-527e18158468"
      },
      "execution_count": null,
      "outputs": [
        {
          "output_type": "execute_result",
          "data": {
            "text/plain": [
              "'e'"
            ],
            "application/vnd.google.colaboratory.intrinsic+json": {
              "type": "string"
            }
          },
          "metadata": {},
          "execution_count": 8
        }
      ]
    },
    {
      "cell_type": "code",
      "source": [
        "#Extract a slice from a string\n",
        "print(\"HELLO\"[1:4])"
      ],
      "metadata": {
        "colab": {
          "base_uri": "https://localhost:8080/"
        },
        "id": "zGG4K3SBITV5",
        "outputId": "39a55f36-d164-42ea-a5eb-3038bc9da01d"
      },
      "execution_count": null,
      "outputs": [
        {
          "output_type": "stream",
          "name": "stdout",
          "text": [
            "ELL\n"
          ]
        }
      ]
    },
    {
      "cell_type": "code",
      "source": [
        "#Use the index string method\n",
        "\"\"\" how to search in a string. To do this,\n",
        "we need to use the index method. The index method finds\n",
        "the first occurrence of the input in a string and returns its location.\n",
        "Let's practice using the index method in Python. \"\"\"\n",
        "\n",
        "\n",
        "print(\"HELLO\".index(\"E\"))\n",
        "\n",
        "***Maksudnya adalah bahwa huruf E ada di index nomor 1\n",
        " BUKAN jumlah dari hurufnya sebanyak 1.***"
      ],
      "metadata": {
        "colab": {
          "base_uri": "https://localhost:8080/"
        },
        "id": "eVknhjgzJPwZ",
        "outputId": "1cf758ac-b5a9-4d24-a189-e1603832f3eb"
      },
      "execution_count": null,
      "outputs": [
        {
          "output_type": "stream",
          "name": "stdout",
          "text": [
            "1\n"
          ]
        }
      ]
    },
    {
      "cell_type": "code",
      "source": [
        "#Use the index string method\n",
        "print(\"HELLO\".index(\"L\"))\n",
        "\n",
        "***Maksudnya adalah bahwa huruf L ada di posisi index nomor 2\n",
        "BUKAN jumlah dari huruf L sebanyak 2. Dan yang dikeluarkan di index\n",
        "adalah L yang ada di posisi index 2, L di posisi 3 tidak dikeluarkan\n",
        "di output walaupun L juga ada di posisi 3.***\n"
      ],
      "metadata": {
        "colab": {
          "base_uri": "https://localhost:8080/"
        },
        "id": "sbQ7NKBFJyAE",
        "outputId": "532c51b5-6d46-400c-fdb8-87fb3cc589eb"
      },
      "execution_count": null,
      "outputs": [
        {
          "output_type": "stream",
          "name": "stdout",
          "text": [
            "2\n"
          ]
        }
      ]
    },
    {
      "cell_type": "code",
      "source": [
        "#Strings are immutable,\n",
        "#can't be changed after it's created and assigned a value\n",
        "\n",
        "my_string = \"HELLO\"\n",
        "my_string[1] = \"A\""
      ],
      "metadata": {
        "colab": {
          "base_uri": "https://localhost:8080/",
          "height": 210
        },
        "id": "90YA64NRLXyq",
        "outputId": "04f2ca8b-bdb3-4eb5-a1bd-10cc128dc6db"
      },
      "execution_count": null,
      "outputs": [
        {
          "output_type": "error",
          "ename": "TypeError",
          "evalue": "'str' object does not support item assignment",
          "traceback": [
            "\u001b[0;31m---------------------------------------------------------------------------\u001b[0m",
            "\u001b[0;31mTypeError\u001b[0m                                 Traceback (most recent call last)",
            "\u001b[0;32m<ipython-input-19-e793af5fa929>\u001b[0m in \u001b[0;36m<cell line: 5>\u001b[0;34m()\u001b[0m\n\u001b[1;32m      3\u001b[0m \u001b[0;34m\u001b[0m\u001b[0m\n\u001b[1;32m      4\u001b[0m \u001b[0mmy_string\u001b[0m \u001b[0;34m=\u001b[0m \u001b[0;34m\"HELLO\"\u001b[0m\u001b[0;34m\u001b[0m\u001b[0;34m\u001b[0m\u001b[0m\n\u001b[0;32m----> 5\u001b[0;31m \u001b[0mmy_string\u001b[0m\u001b[0;34m[\u001b[0m\u001b[0;36m1\u001b[0m\u001b[0;34m]\u001b[0m \u001b[0;34m=\u001b[0m \u001b[0;34m\"A\"\u001b[0m\u001b[0;34m\u001b[0m\u001b[0;34m\u001b[0m\u001b[0m\n\u001b[0m",
            "\u001b[0;31mTypeError\u001b[0m: 'str' object does not support item assignment"
          ]
        }
      ]
    },
    {
      "cell_type": "code",
      "source": [
        "#Extract from a list\n",
        "my_list = [\"a\",\"b\",\"c\",\"d\",\"e\"]\n",
        "\n",
        "print (my_list[1])\n"
      ],
      "metadata": {
        "colab": {
          "base_uri": "https://localhost:8080/"
        },
        "id": "CpcfASN6Xmux",
        "outputId": "ff601ad6-fb5e-4b73-874e-0116752a7588"
      },
      "execution_count": 1,
      "outputs": [
        {
          "output_type": "stream",
          "name": "stdout",
          "text": [
            "b\n"
          ]
        }
      ]
    },
    {
      "cell_type": "code",
      "source": [
        "#Concatenate two lists\n",
        "my_list = [\"a\",\"b\",\"c\",\"d\",\"e\"]\n",
        "number_list = [\"1\",\"2\",\"3\",\"4\"]\n",
        "print(my_list + number_list)\n"
      ],
      "metadata": {
        "colab": {
          "base_uri": "https://localhost:8080/"
        },
        "id": "Ra-FwZxW0nPR",
        "outputId": "51cd1b0d-4251-451c-ad06-484e16da87b9"
      },
      "execution_count": 2,
      "outputs": [
        {
          "output_type": "stream",
          "name": "stdout",
          "text": [
            "['a', 'b', 'c', 'd', 'e', '1', '2', '3', '4']\n"
          ]
        }
      ]
    },
    {
      "cell_type": "code",
      "source": [
        "#Change or replace a specific element in a list\n",
        "my_list = [\"a\",\"b\",\"c\",\"d\",\"e\"]\n",
        "my_list[1] = 7\n",
        "print(my_list)"
      ],
      "metadata": {
        "colab": {
          "base_uri": "https://localhost:8080/"
        },
        "id": "T0T0CL-S0rSi",
        "outputId": "4760a745-6584-4136-bf2d-a73830a854bc"
      },
      "execution_count": 3,
      "outputs": [
        {
          "output_type": "stream",
          "name": "stdout",
          "text": [
            "['a', 7, 'c', 'd', 'e']\n"
          ]
        }
      ]
    },
    {
      "cell_type": "code",
      "source": [
        "#Use the insert method\n",
        "my_list = [\"a\",\"b\",\"c\",\"d\",\"e\"]\n",
        "my_list.insert(1,7)\n",
        "print (my_list)\n"
      ],
      "metadata": {
        "colab": {
          "base_uri": "https://localhost:8080/"
        },
        "id": "i-8FrrWQ00ti",
        "outputId": "999ec65a-a045-4677-f8e4-d921e377e3a1"
      },
      "execution_count": 4,
      "outputs": [
        {
          "output_type": "stream",
          "name": "stdout",
          "text": [
            "['a', 7, 'b', 'c', 'd', 'e']\n"
          ]
        }
      ]
    },
    {
      "cell_type": "code",
      "source": [
        "#Use the remove method\n",
        "my_list = [\"a\",\"b\",\"c\",\"d\",\"e\"]\n",
        "my_list.remove(\"d\")\n",
        "print (my_list)"
      ],
      "metadata": {
        "colab": {
          "base_uri": "https://localhost:8080/"
        },
        "id": "0XTm9Drk08wk",
        "outputId": "74eb98f6-ac23-49ba-87e2-872dbac778cd"
      },
      "execution_count": 5,
      "outputs": [
        {
          "output_type": "stream",
          "name": "stdout",
          "text": [
            "['a', 'b', 'c', 'e']\n"
          ]
        }
      ]
    },
    {
      "cell_type": "code",
      "source": [
        "#Simple algorithm to extract the first three characters from a list of IP address\n",
        "\n",
        "IP = [\"192.223.xx.xx\", \"198.101.xx.xx\", \"180.064.xx.xx\", \"192.168.xx.xx\", \"184.090.xx.xx\"]\n",
        "\n",
        "networks =[]\n",
        "for address in IP:\n",
        "\tnetworks.append(address[0:3])\n",
        "print(networks)\n"
      ],
      "metadata": {
        "colab": {
          "base_uri": "https://localhost:8080/"
        },
        "id": "FZBmYXQe6QyK",
        "outputId": "d1d5b83a-cf10-48b2-b3a3-bc05fec4ae1e"
      },
      "execution_count": 6,
      "outputs": [
        {
          "output_type": "stream",
          "name": "stdout",
          "text": [
            "['192', '198', '180', '192', '184']\n"
          ]
        }
      ]
    }
  ]
}