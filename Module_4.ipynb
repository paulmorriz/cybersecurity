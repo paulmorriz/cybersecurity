{
  "nbformat": 4,
  "nbformat_minor": 0,
  "metadata": {
    "colab": {
      "provenance": [],
      "authorship_tag": "ABX9TyPJjno0L99bxQpy0cNuf0nI",
      "include_colab_link": true
    },
    "kernelspec": {
      "name": "python3",
      "display_name": "Python 3"
    },
    "language_info": {
      "name": "python"
    }
  },
  "cells": [
    {
      "cell_type": "markdown",
      "metadata": {
        "id": "view-in-github",
        "colab_type": "text"
      },
      "source": [
        "<a href=\"https://colab.research.google.com/github/paulmorriz/cybersecurity/blob/main/Module_4.ipynb\" target=\"_parent\"><img src=\"https://colab.research.google.com/assets/colab-badge.svg\" alt=\"Open In Colab\"/></a>"
      ]
    },
    {
      "cell_type": "code",
      "execution_count": null,
      "metadata": {
        "id": "Wx1snXUcYe75"
      },
      "outputs": [],
      "source": [
        "#Opening a text file in Python\n",
        "\n",
        "#Open a text file\n",
        "with open(\"login_attempts.txt\", \"r\") as file:\n",
        "    file_text = file.read()\n",
        "print(file_text)"
      ]
    },
    {
      "cell_type": "code",
      "source": [
        "# Open, read, and split a text file (1)\n",
        "\n",
        "with open (r\"/content/login_attempts.txt\", \"r\") as file:\n",
        "\tfile_text = file.read()\n",
        "usernames = file_text.split()\n",
        "\n",
        "#then create a function that counts a user's failed login attempts\n",
        "\n",
        "\"\"\" Example of bad indentation!\n",
        "\n",
        "def login_check(login_list, current_user):\n",
        "    counter = 0\n",
        "    for i in login_list:\n",
        "        if i == current_user:\n",
        "         counter = counter + 1\n",
        "        if counter >= 3 :\n",
        "         return \"You have tried to login three or more times. Your account has been locked.\"\n",
        "        else:\n",
        "         return \"You can log in!\"\n",
        "login_check(usernames, 'user1')\n",
        "\n",
        "In the login_check function,\n",
        "the indentation of the if statements is not consistent.\n",
        "It seems like you want both if statements to be part of the same block,\n",
        "but they are not indented correctly.\n",
        "\n",
        "The return statements are inside the loop,\n",
        "which means the function will return after checking the first username.\n",
        "If you want to check all usernames before returning,\n",
        "you should move the return statements outside of the loop.\n",
        "\n",
        "\"\"\"\n",
        "\n",
        "\n",
        "\n",
        "def login_check(login_list, current_user):\n",
        "    counter = 0\n",
        "    for i in login_list:\n",
        "        if i == current_user:\n",
        "         counter = counter + 1\n",
        "    if counter >= 3 :\n",
        "        return \"You have tried to login three or more times. Your account has been locked.\"\n",
        "    else:\n",
        "            return \"You can log in!\"\n",
        "login_check(usernames, 'pauldf')\n"
      ],
      "metadata": {
        "colab": {
          "base_uri": "https://localhost:8080/",
          "height": 36
        },
        "id": "ULUVj8zVnGpJ",
        "outputId": "d535b78c-d003-44bf-fcde-e4e74c4139aa"
      },
      "execution_count": 53,
      "outputs": [
        {
          "output_type": "execute_result",
          "data": {
            "text/plain": [
              "'You have tried to login three or more times. Your account has been locked.'"
            ],
            "application/vnd.google.colaboratory.intrinsic+json": {
              "type": "string"
            }
          },
          "metadata": {},
          "execution_count": 53
        }
      ]
    },
    {
      "cell_type": "code",
      "source": [
        "# Open, read, and split a text file (2)\n",
        "with open(\"/content/login_attempts.txt\", \"r\") as file:\n",
        "    file_text = file.read()\n",
        "usernames = file_text.split()\n",
        "print(usernames)\n",
        "\n",
        "# Create a function that counts a user's failed login attempts\n",
        "def login_check(login_list, current_user):\n",
        "    counter = 0\n",
        "    for i in login_list:\n",
        "        if i == current_user:\n",
        "            counter = counter + 1  # Increment counter for each matching username\n",
        "\n",
        "    if counter >= 3:\n",
        "        return \"You have tried to log in three or more times. Your account has been locked.\"\n",
        "    else:\n",
        "        return \"You can log in!\"\n",
        "\n",
        "result = login_check(usernames, \"pauldf\")\n",
        "print(result)"
      ],
      "metadata": {
        "id": "M3JXvxw8w0ik",
        "outputId": "3ef3ecb5-ddad-4bb1-a557-d601a59dcc3e",
        "colab": {
          "base_uri": "https://localhost:8080/"
        }
      },
      "execution_count": null,
      "outputs": [
        {
          "output_type": "stream",
          "name": "stdout",
          "text": [
            "['user1', 'user2', 'user3', 'user4', 'pauldf', 'pauldf', 'pauldf', 'user6', 'user7', 'user8', 'user9', 'user10', 'user11', 'user12', 'user13', 'user14', 'user15', 'user16', 'user17', 'user18', 'user19', 'user20', 'user21', 'user22', 'user23', 'user24', 'user25', 'user26', 'user27', 'user28', 'user29', 'user30', 'user31', 'user32', 'pauldf', 'user34', 'user35', 'user36', 'user37', 'user38', 'user39', 'user40', 'user41', 'user42', 'user43', 'user44', 'user45', 'user46', 'user47', 'user48', 'user49', 'user50', 'user51', 'user52', 'user53', 'user54', 'user55', 'user56', 'user57', 'user58', 'user59', 'user60', 'user61', 'user62', 'user63', 'user64', 'user65', 'user66', 'user67', 'user68', 'user69', 'user70', 'user71', 'user72', 'user73', 'user74', 'user75', 'pauldf', 'pauldf', 'pauldf', 'pauldf', 'user77', 'user78', 'user79', 'user80', 'user81', 'user82', 'user83', 'user84', 'user85', 'user86', 'user87', 'user88', 'user89', 'user90', 'user91', 'user92', 'user93', 'user94', 'user95', 'user96', 'user97', 'user98', 'user99', 'pauldf', 'user101', 'user102', 'user103', 'user104', 'user105', 'user106', 'user107', 'user108', 'user109', 'user110', 'user111', 'user112', 'user113', 'user114', 'user115', 'user116', 'user117', 'user118', 'user119', 'user120', 'user121', 'user122', 'user123', 'user124', 'user125', 'user126', 'user127', 'user128', 'user129', 'user130', 'user131', 'user132', 'user133', 'user134', 'user135', 'user136', 'user137', 'user138', 'pauldf', 'user140', 'user141', 'user142', 'user143', 'user144', 'user145', 'user146', 'pauldf', 'user148', 'user149', 'user150']\n",
            "You have tried to log in three or more times. Your account has been locked.\n"
          ]
        }
      ]
    },
    {
      "cell_type": "code",
      "source": [
        "#(Open the file that contains the allow list)\n",
        "#Assign 'import_file'to the name of the file\n",
        "import_file = \"allow_list.txt\"\n",
        "\n",
        "#Build 'with' statement ro read the initial contents of the file\n",
        "\n",
        "with open(import_file, \"r\") as file:\n",
        "\n",
        "#(Read the file contents)\n",
        "#Use '.read()' to read the imported file and store it in a variable named 'ip_addresses'\n",
        "  ip_addresses = file.read()\n",
        "\n",
        "#(Convert the string into a list)\n",
        "#Use '.split()' to convert 'ip_addresses' from a string to a list\n",
        "\n",
        "ip_addresses = ip_addresses.split()\n",
        "\n",
        "#(Iterate through the remove list)\n",
        "#Build iterative statement\n",
        "#Name loop variable 'element'\n",
        "#Loop through 'remove_list\n",
        "\n",
        "for element in remove_list:\n",
        "\n",
        "#(Remove IP addresses that are on the remove list)\n",
        "#Create conditional statement to evaluate if 'element'is in 'ip_addresses'\n",
        "\n",
        "    if element in ip_addresses:\n",
        "\n",
        "      #Use the '.remove() method to remove\n",
        "      #elements from 'ip_addresses'\n",
        "\n",
        "        ip_addresses.remove(element)\n",
        "\n",
        "#(Update the file with the revised list of IP addresses)\n",
        "#Convert 'ip_addresses' back to a string so that it can be written into the text file\n",
        "\n",
        "ip_addresses = \"\\n\".join(ip_addresses)\n",
        "\n",
        "#Build 'with' statement to rewrite the original file\n",
        "\n",
        "with open(import_file, \"w\") as file:\n",
        "\n",
        "  #Rewrite the file, replacing its contents with 'ip_addresses'\n",
        "\n",
        "  file.write(ip_addresses)\n",
        "\n"
      ],
      "metadata": {
        "id": "p7K8zFwBZM7M",
        "colab": {
          "base_uri": "https://localhost:8080/",
          "height": 245
        },
        "outputId": "95d04a3a-9342-44f9-cb48-d434eddbb0ec"
      },
      "execution_count": 55,
      "outputs": [
        {
          "output_type": "error",
          "ename": "FileNotFoundError",
          "evalue": "[Errno 2] No such file or directory: 'allow_list.txt'",
          "traceback": [
            "\u001b[0;31m---------------------------------------------------------------------------\u001b[0m",
            "\u001b[0;31mFileNotFoundError\u001b[0m                         Traceback (most recent call last)",
            "\u001b[0;32m<ipython-input-55-1fbf5f09c387>\u001b[0m in \u001b[0;36m<cell line: 7>\u001b[0;34m()\u001b[0m\n\u001b[1;32m      5\u001b[0m \u001b[0;31m#Build 'with' statement ro read the initial contents of the file\u001b[0m\u001b[0;34m\u001b[0m\u001b[0;34m\u001b[0m\u001b[0m\n\u001b[1;32m      6\u001b[0m \u001b[0;34m\u001b[0m\u001b[0m\n\u001b[0;32m----> 7\u001b[0;31m \u001b[0;32mwith\u001b[0m \u001b[0mopen\u001b[0m\u001b[0;34m(\u001b[0m\u001b[0mimport_file\u001b[0m\u001b[0;34m,\u001b[0m \u001b[0;34m\"r\"\u001b[0m\u001b[0;34m)\u001b[0m \u001b[0;32mas\u001b[0m \u001b[0mfile\u001b[0m\u001b[0;34m:\u001b[0m\u001b[0;34m\u001b[0m\u001b[0;34m\u001b[0m\u001b[0m\n\u001b[0m\u001b[1;32m      8\u001b[0m \u001b[0;34m\u001b[0m\u001b[0m\n\u001b[1;32m      9\u001b[0m \u001b[0;31m#(Read the file contents)\u001b[0m\u001b[0;34m\u001b[0m\u001b[0;34m\u001b[0m\u001b[0m\n",
            "\u001b[0;31mFileNotFoundError\u001b[0m: [Errno 2] No such file or directory: 'allow_list.txt'"
          ]
        }
      ]
    }
  ]
}