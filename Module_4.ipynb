{
  "nbformat": 4,
  "nbformat_minor": 0,
  "metadata": {
    "colab": {
      "provenance": [],
      "authorship_tag": "ABX9TyMrmJAY/FxU2D+JxKJvUEP/",
      "include_colab_link": true
    },
    "kernelspec": {
      "name": "python3",
      "display_name": "Python 3"
    },
    "language_info": {
      "name": "python"
    }
  },
  "cells": [
    {
      "cell_type": "markdown",
      "metadata": {
        "id": "view-in-github",
        "colab_type": "text"
      },
      "source": [
        "<a href=\"https://colab.research.google.com/github/paulmorriz/cybersecurity/blob/main/Module_4.ipynb\" target=\"_parent\"><img src=\"https://colab.research.google.com/assets/colab-badge.svg\" alt=\"Open In Colab\"/></a>"
      ]
    },
    {
      "cell_type": "code",
      "execution_count": null,
      "metadata": {
        "id": "Wx1snXUcYe75"
      },
      "outputs": [],
      "source": [
        "#Opening a text file in Python\n",
        "\n",
        "#Open a text file\n",
        "with open(\"login_attempts.txt\", \"r\") as file:\n",
        "    file_text = file.read()\n",
        "print(file_text)"
      ]
    },
    {
      "cell_type": "code",
      "source": [
        "# Open, read, and split a text file (1)\n",
        "\n",
        "with open (r\"/content/login_attempts.txt\", \"r\") as file:\n",
        "\tfile_text = file.read()\n",
        "usernames = file_text.split()\n",
        "\n",
        "#then create a function that counts a user's failed login attempts\n",
        "\n",
        "\"\"\" Example of bad indentation!\n",
        "\n",
        "def login_check(login_list, current_user):\n",
        "    counter = 0\n",
        "    for i in login_list:\n",
        "        if i == current_user:\n",
        "         counter = counter + 1\n",
        "        if counter >= 3 :\n",
        "         return \"You have tried to login three or more times. Your account has been locked.\"\n",
        "        else:\n",
        "         return \"You can log in!\"\n",
        "login_check(usernames, 'user1')\n",
        "\n",
        "In the login_check function,\n",
        "the indentation of the if statements is not consistent.\n",
        "It seems like you want both if statements to be part of the same block,\n",
        "but they are not indented correctly.\n",
        "\n",
        "The return statements are inside the loop,\n",
        "which means the function will return after checking the first username.\n",
        "If you want to check all usernames before returning,\n",
        "you should move the return statements outside of the loop.\n",
        "\n",
        "\"\"\"\n",
        "\n",
        "\n",
        "\n",
        "def login_check(login_list, current_user):\n",
        "    counter = 0\n",
        "    for i in login_list:\n",
        "        if i == current_user:\n",
        "         counter = counter + 1\n",
        "    if counter >= 3 :\n",
        "        return \"You have tried to login three or more times. Your account has been locked.\"\n",
        "    else:\n",
        "            return \"You can log in!\"\n",
        "login_check(usernames, 'pauldf')\n"
      ],
      "metadata": {
        "colab": {
          "base_uri": "https://localhost:8080/",
          "height": 36
        },
        "id": "ULUVj8zVnGpJ",
        "outputId": "d535b78c-d003-44bf-fcde-e4e74c4139aa"
      },
      "execution_count": 53,
      "outputs": [
        {
          "output_type": "execute_result",
          "data": {
            "text/plain": [
              "'You have tried to login three or more times. Your account has been locked.'"
            ],
            "application/vnd.google.colaboratory.intrinsic+json": {
              "type": "string"
            }
          },
          "metadata": {},
          "execution_count": 53
        }
      ]
    },
    {
      "cell_type": "code",
      "source": [
        "# Open, read, and split a text file (2)\n",
        "with open(\"/content/login_attempts.txt\", \"r\") as file:\n",
        "    file_text = file.read()\n",
        "usernames = file_text.split()\n",
        "print(usernames)\n",
        "\n",
        "# Create a function that counts a user's failed login attempts\n",
        "def login_check(login_list, current_user):\n",
        "    counter = 0\n",
        "    for i in login_list:\n",
        "        if i == current_user:\n",
        "            counter = counter + 1  # Increment counter for each matching username\n",
        "\n",
        "    if counter >= 3:\n",
        "        return \"You have tried to log in three or more times. Your account has been locked.\"\n",
        "    else:\n",
        "        return \"You can log in!\"\n",
        "\n",
        "result = login_check(usernames, \"pauldf\")\n",
        "print(result)"
      ],
      "metadata": {
        "id": "M3JXvxw8w0ik",
        "outputId": "3ef3ecb5-ddad-4bb1-a557-d601a59dcc3e",
        "colab": {
          "base_uri": "https://localhost:8080/"
        }
      },
      "execution_count": null,
      "outputs": [
        {
          "output_type": "stream",
          "name": "stdout",
          "text": [
            "['user1', 'user2', 'user3', 'user4', 'pauldf', 'pauldf', 'pauldf', 'user6', 'user7', 'user8', 'user9', 'user10', 'user11', 'user12', 'user13', 'user14', 'user15', 'user16', 'user17', 'user18', 'user19', 'user20', 'user21', 'user22', 'user23', 'user24', 'user25', 'user26', 'user27', 'user28', 'user29', 'user30', 'user31', 'user32', 'pauldf', 'user34', 'user35', 'user36', 'user37', 'user38', 'user39', 'user40', 'user41', 'user42', 'user43', 'user44', 'user45', 'user46', 'user47', 'user48', 'user49', 'user50', 'user51', 'user52', 'user53', 'user54', 'user55', 'user56', 'user57', 'user58', 'user59', 'user60', 'user61', 'user62', 'user63', 'user64', 'user65', 'user66', 'user67', 'user68', 'user69', 'user70', 'user71', 'user72', 'user73', 'user74', 'user75', 'pauldf', 'pauldf', 'pauldf', 'pauldf', 'user77', 'user78', 'user79', 'user80', 'user81', 'user82', 'user83', 'user84', 'user85', 'user86', 'user87', 'user88', 'user89', 'user90', 'user91', 'user92', 'user93', 'user94', 'user95', 'user96', 'user97', 'user98', 'user99', 'pauldf', 'user101', 'user102', 'user103', 'user104', 'user105', 'user106', 'user107', 'user108', 'user109', 'user110', 'user111', 'user112', 'user113', 'user114', 'user115', 'user116', 'user117', 'user118', 'user119', 'user120', 'user121', 'user122', 'user123', 'user124', 'user125', 'user126', 'user127', 'user128', 'user129', 'user130', 'user131', 'user132', 'user133', 'user134', 'user135', 'user136', 'user137', 'user138', 'pauldf', 'user140', 'user141', 'user142', 'user143', 'user144', 'user145', 'user146', 'pauldf', 'user148', 'user149', 'user150']\n",
            "You have tried to log in three or more times. Your account has been locked.\n"
          ]
        }
      ]
    },
    {
      "cell_type": "code",
      "source": [],
      "metadata": {
        "id": "p7K8zFwBZM7M"
      },
      "execution_count": null,
      "outputs": []
    }
  ]
}