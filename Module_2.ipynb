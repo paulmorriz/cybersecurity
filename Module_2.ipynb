{
  "nbformat": 4,
  "nbformat_minor": 0,
  "metadata": {
    "colab": {
      "provenance": [],
      "authorship_tag": "ABX9TyPwh6HZbd9VLFKM7/7urSrL",
      "include_colab_link": true
    },
    "kernelspec": {
      "name": "python3",
      "display_name": "Python 3"
    },
    "language_info": {
      "name": "python"
    }
  },
  "cells": [
    {
      "cell_type": "markdown",
      "metadata": {
        "id": "view-in-github",
        "colab_type": "text"
      },
      "source": [
        "<a href=\"https://colab.research.google.com/github/paulmorriz/cybersecurity/blob/main/Module_2.ipynb\" target=\"_parent\"><img src=\"https://colab.research.google.com/assets/colab-badge.svg\" alt=\"Open In Colab\"/></a>"
      ]
    },
    {
      "cell_type": "code",
      "execution_count": null,
      "metadata": {
        "colab": {
          "base_uri": "https://localhost:8080/"
        },
        "id": "vIQIIbojXrVL",
        "outputId": "27ed5829-5b42-47cf-952d-742cc1efccbe"
      },
      "outputs": [
        {
          "output_type": "stream",
          "name": "stdout",
          "text": [
            "Welcome! You're logged in.\n"
          ]
        }
      ],
      "source": [
        "#Define a function\n",
        "def greet_employee():\n",
        "\tprint(\"Welcome! You're logged in.\")\n",
        "\n",
        "#Call a function\n",
        "greet_employee()\n"
      ]
    },
    {
      "cell_type": "code",
      "source": [
        "#Investigation message function\n",
        "\n",
        "def display_investigation_message():\n",
        "\n",
        "    print(\"investigate activity\")\n",
        "\n",
        "application_status = \"potential concern\"\n",
        "\n",
        "email_status = \"okay\"\n",
        "\n",
        "if application_status == \"potential concern\":\n",
        "\n",
        "    print(\"application_log:\")\n",
        "\n",
        "    display_investigation_message()\n",
        "\n",
        "if email_status == \"potential concern\":\n",
        "\n",
        "    print(\"email log:\")\n",
        "\n",
        "    display_investigation_message()\n"
      ],
      "metadata": {
        "id": "XYiGXRIsdG58",
        "outputId": "057eb3cb-2062-4f65-8ccb-3412e03e4d56",
        "colab": {
          "base_uri": "https://localhost:8080/"
        }
      },
      "execution_count": null,
      "outputs": [
        {
          "output_type": "stream",
          "name": "stdout",
          "text": [
            "application_log:\n",
            "investigate activity\n"
          ]
        }
      ]
    },
    {
      "cell_type": "code",
      "source": [
        "#Greet employees by name\n",
        "\n",
        "def greet_employee(name):\n",
        "\tprint(\"Welcome! You're logged in\", name)\n",
        "greet_employee(\"Charley Patel\")\n"
      ],
      "metadata": {
        "colab": {
          "base_uri": "https://localhost:8080/"
        },
        "id": "z9YnexPJTeAm",
        "outputId": "e82504cd-b7e9-4f3c-be3a-ae54b83ba70d"
      },
      "execution_count": 1,
      "outputs": [
        {
          "output_type": "stream",
          "name": "stdout",
          "text": [
            "Welcome! You're logged in Charley Patel\n"
          ]
        }
      ]
    },
    {
      "cell_type": "code",
      "source": [
        "#function with two parameters and two arguments\n",
        "#Bedakan antara parameter dan argument.\n",
        "#Parameter terjadi di dalam function misalnya\n",
        "#greet_employee(first_name, last_name):\n",
        "#sedangkan\n",
        "#Argument terjadi saat kita memanggil/call the function\n",
        "#greet_employee (\"Kiara\", \"Carter\")\n",
        "\n",
        "\n",
        "def greet_employee(first_name, last_name):\n",
        "\tprint(\"Welcome! You're logged in\", first_name, last_name)\n",
        "greet_employee(\"Kiara\", \"Carter\")\n"
      ],
      "metadata": {
        "colab": {
          "base_uri": "https://localhost:8080/"
        },
        "id": "ccOMdG-oTj2D",
        "outputId": "d3681275-87ac-4a8e-eba2-1fd9f82c3289"
      },
      "execution_count": 2,
      "outputs": [
        {
          "output_type": "stream",
          "name": "stdout",
          "text": [
            "Welcome! You're logged in Kiara Carter\n"
          ]
        }
      ]
    }
  ]
}