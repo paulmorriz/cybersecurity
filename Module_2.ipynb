{
  "nbformat": 4,
  "nbformat_minor": 0,
  "metadata": {
    "colab": {
      "provenance": [],
      "authorship_tag": "ABX9TyNr+cZme/X31dVWf4aYkDca",
      "include_colab_link": true
    },
    "kernelspec": {
      "name": "python3",
      "display_name": "Python 3"
    },
    "language_info": {
      "name": "python"
    }
  },
  "cells": [
    {
      "cell_type": "markdown",
      "metadata": {
        "id": "view-in-github",
        "colab_type": "text"
      },
      "source": [
        "<a href=\"https://colab.research.google.com/github/paulmorriz/cybersecurity/blob/main/Module_2.ipynb\" target=\"_parent\"><img src=\"https://colab.research.google.com/assets/colab-badge.svg\" alt=\"Open In Colab\"/></a>"
      ]
    },
    {
      "cell_type": "code",
      "execution_count": 1,
      "metadata": {
        "colab": {
          "base_uri": "https://localhost:8080/"
        },
        "id": "vIQIIbojXrVL",
        "outputId": "27ed5829-5b42-47cf-952d-742cc1efccbe"
      },
      "outputs": [
        {
          "output_type": "stream",
          "name": "stdout",
          "text": [
            "Welcome! You're logged in.\n"
          ]
        }
      ],
      "source": [
        "#Define a function\n",
        "def greet_employee():\n",
        "\tprint(\"Welcome! You're logged in.\")\n",
        "\n",
        "#Call a function\n",
        "greet_employee()\n"
      ]
    }
  ]
}