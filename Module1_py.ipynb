{
  "nbformat": 4,
  "nbformat_minor": 0,
  "metadata": {
    "colab": {
      "provenance": [],
      "authorship_tag": "ABX9TyNWC6weTwC1NcLCaJ7N90of",
      "include_colab_link": true
    },
    "kernelspec": {
      "name": "python3",
      "display_name": "Python 3"
    },
    "language_info": {
      "name": "python"
    }
  },
  "cells": [
    {
      "cell_type": "markdown",
      "metadata": {
        "id": "view-in-github",
        "colab_type": "text"
      },
      "source": [
        "<a href=\"https://colab.research.google.com/github/paulmorriz/cybersecurity/blob/main/Module1_py.ipynb\" target=\"_parent\"><img src=\"https://colab.research.google.com/assets/colab-badge.svg\" alt=\"Open In Colab\"/></a>"
      ]
    },
    {
      "cell_type": "code",
      "source": [
        "# print Hello Python\n",
        "print (\"Hello Python!\")"
      ],
      "metadata": {
        "colab": {
          "base_uri": "https://localhost:8080/"
        },
        "id": "ulomCwXkMbHC",
        "outputId": "85a7c701-fc35-4d00-f046-44ba58ebb36d"
      },
      "execution_count": null,
      "outputs": [
        {
          "output_type": "stream",
          "name": "stdout",
          "text": [
            "Hello Python!\n"
          ]
        }
      ]
    },
    {
      "cell_type": "code",
      "source": [
        "#Calculate numbers with print\n",
        "print(1+1)"
      ],
      "metadata": {
        "id": "JlJVQsSSMe5B",
        "colab": {
          "base_uri": "https://localhost:8080/"
        },
        "outputId": "64a80342-8f27-41c3-9db6-e1dab25558b5"
      },
      "execution_count": null,
      "outputs": [
        {
          "output_type": "stream",
          "name": "stdout",
          "text": [
            "2\n"
          ]
        }
      ]
    },
    {
      "cell_type": "code",
      "source": [
        "#Determine boolean values\n",
        "print(10<5)\n",
        "print(9<12)"
      ],
      "metadata": {
        "colab": {
          "base_uri": "https://localhost:8080/"
        },
        "id": "I0a01LtICS2x",
        "outputId": "9e28bc29-2530-435f-8928-0f233bd5756b"
      },
      "execution_count": null,
      "outputs": [
        {
          "output_type": "stream",
          "name": "stdout",
          "text": [
            "False\n",
            "True\n"
          ]
        }
      ]
    },
    {
      "cell_type": "code",
      "source": [
        "#Print a list - remember list must be placed within brackets,\n",
        "# when it prints it still has the brackets []\n",
        "\n",
        "print ([\"dtanaka\", \"mabadi\", \"aestrada\"])"
      ],
      "metadata": {
        "colab": {
          "base_uri": "https://localhost:8080/"
        },
        "id": "LQLvZ0wJDGQk",
        "outputId": "40bc2e27-53ee-492b-972c-bb41719f31e8"
      },
      "execution_count": null,
      "outputs": [
        {
          "output_type": "stream",
          "name": "stdout",
          "text": [
            "['dtanaka', 'mabadi', 'aestrada']\n"
          ]
        }
      ]
    },
    {
      "cell_type": "code",
      "source": [
        "#Use a variable to store a device ID\n",
        "device_id = \"h32rb17\""
      ],
      "metadata": {
        "id": "Wy9OtXq9O2hT"
      },
      "execution_count": null,
      "outputs": []
    },
    {
      "cell_type": "code",
      "source": [
        "#Call a variable\n",
        "device_id = \"h32rb17\"\n",
        "print(device_id)"
      ],
      "metadata": {
        "colab": {
          "base_uri": "https://localhost:8080/"
        },
        "id": "TVsNhJ8BO8hq",
        "outputId": "447ef0b9-e895-442e-bc4a-b3f89045dc06"
      },
      "execution_count": null,
      "outputs": [
        {
          "output_type": "stream",
          "name": "stdout",
          "text": [
            "h32rb17\n"
          ]
        }
      ]
    },
    {
      "cell_type": "code",
      "source": [
        "#Call a variable and differentiate with print a string\n",
        "device_id = \"h32rb17\"\n",
        "print(device_id)\n",
        "print(\"m50pi31\")\n",
        "\n",
        "#But if we could use the string directly, why do we need variables?\n",
        "\n",
        "#Well, we often use variables to simplify our code or make it cleaner and easier to read. Or if we needed a very long string or number, storing it in a variable would let us use it throughout our code without typing it all out.\n"
      ],
      "metadata": {
        "colab": {
          "base_uri": "https://localhost:8080/"
        },
        "id": "Imfl9it6PCVm",
        "outputId": "c4908910-eac5-489c-9f62-82923b375145"
      },
      "execution_count": null,
      "outputs": [
        {
          "output_type": "stream",
          "name": "stdout",
          "text": [
            "h32rb17\n",
            "m50pi31\n"
          ]
        }
      ]
    },
    {
      "cell_type": "code",
      "source": [
        "#Use the type function\n",
        "device_id = \"h32rb17\"\n",
        "data_type = type (device_id)\n",
        "print (device_id)\n",
        "print (data_type)\n"
      ],
      "metadata": {
        "colab": {
          "base_uri": "https://localhost:8080/"
        },
        "id": "er_szZnkPScl",
        "outputId": "3a14c1b8-9cd3-48ab-f43c-2820cf004719"
      },
      "execution_count": null,
      "outputs": [
        {
          "output_type": "stream",
          "name": "stdout",
          "text": [
            "h32rb17\n",
            "<class 'str'>\n"
          ]
        }
      ]
    },
    {
      "cell_type": "code",
      "source": [
        "# Demonstrate a type error\n",
        "device_id = \"h32rb17\"\n",
        "number = 3\n",
        "print (device_id + number)"
      ],
      "metadata": {
        "colab": {
          "base_uri": "https://localhost:8080/",
          "height": 257
        },
        "id": "x_IMcaK3PbkY",
        "outputId": "6ff8e0d6-be1b-4f35-f8ee-b78b0f10b34e"
      },
      "execution_count": null,
      "outputs": [
        {
          "output_type": "error",
          "ename": "TypeError",
          "evalue": "can only concatenate str (not \"int\") to str",
          "traceback": [
            "\u001b[0;31m---------------------------------------------------------------------------\u001b[0m",
            "\u001b[0;31mTypeError\u001b[0m                                 Traceback (most recent call last)",
            "\u001b[0;32m<ipython-input-10-3efe7ae8c0ee>\u001b[0m in \u001b[0;36m<cell line: 4>\u001b[0;34m()\u001b[0m\n\u001b[1;32m      2\u001b[0m \u001b[0mdevice_id\u001b[0m \u001b[0;34m=\u001b[0m \u001b[0;34m\"h32rb17\"\u001b[0m\u001b[0;34m\u001b[0m\u001b[0;34m\u001b[0m\u001b[0m\n\u001b[1;32m      3\u001b[0m \u001b[0mnumber\u001b[0m \u001b[0;34m=\u001b[0m \u001b[0;36m3\u001b[0m\u001b[0;34m\u001b[0m\u001b[0;34m\u001b[0m\u001b[0m\n\u001b[0;32m----> 4\u001b[0;31m \u001b[0mprint\u001b[0m \u001b[0;34m(\u001b[0m\u001b[0mdevice_id\u001b[0m \u001b[0;34m+\u001b[0m \u001b[0mnumber\u001b[0m\u001b[0;34m)\u001b[0m\u001b[0;34m\u001b[0m\u001b[0;34m\u001b[0m\u001b[0m\n\u001b[0m",
            "\u001b[0;31mTypeError\u001b[0m: can only concatenate str (not \"int\") to str"
          ]
        }
      ]
    },
    {
      "cell_type": "code",
      "source": [
        "#Reassign a variable\n",
        "\n",
        "device_id = \"h32rb17\"\n",
        "print(device_id)\n",
        "device_id =\"n73ab07\"\n",
        "print(device_id)\n",
        "\n",
        "\n",
        "#The first print statement came before reassignment, so it first prints the string of h32rb17. But the second print statement came after it changed.\n",
        "\n",
        "#That's why the second output to the screen is the string n73ab07.\n"
      ],
      "metadata": {
        "colab": {
          "base_uri": "https://localhost:8080/"
        },
        "id": "VtDN8GfQPkiJ",
        "outputId": "2b6b433f-6f66-482b-9370-8e405c59670c"
      },
      "execution_count": null,
      "outputs": [
        {
          "output_type": "stream",
          "name": "stdout",
          "text": [
            "h32rb17\n",
            "n73ab07\n"
          ]
        }
      ]
    },
    {
      "cell_type": "code",
      "source": [
        "#Create a conditional\n",
        "operating_system = \"OS 2\"\n",
        "\n",
        "if operating_system == \"OS 2\":\n",
        "\tprint(\"Updated needed\")\n"
      ],
      "metadata": {
        "colab": {
          "base_uri": "https://localhost:8080/"
        },
        "id": "F9kxAMdcDptK",
        "outputId": "b09b6e5e-3847-42b8-d47e-6ee012f47318"
      },
      "execution_count": 2,
      "outputs": [
        {
          "output_type": "stream",
          "name": "stdout",
          "text": [
            "Updated needed\n"
          ]
        }
      ]
    },
    {
      "cell_type": "code",
      "source": [
        "#Add an else statement\n",
        "operating_system = \"OS 3\"\n",
        "if operating_system == \"OS 2\":\n",
        "\tprint(\"Updated needed\")\n",
        "else:\n",
        "\tprint(\"No updates needed\")\n"
      ],
      "metadata": {
        "colab": {
          "base_uri": "https://localhost:8080/"
        },
        "id": "MDxx9UjZD3CE",
        "outputId": "97189d9c-49dd-4188-dc94-c1f966508f24"
      },
      "execution_count": 3,
      "outputs": [
        {
          "output_type": "stream",
          "name": "stdout",
          "text": [
            "No updates needed\n"
          ]
        }
      ]
    },
    {
      "cell_type": "code",
      "source": [
        "#Elif statment\n",
        "#The elif keyword precedes a condition\n",
        "#that is only evaluated when previous conditions evaluate\n",
        "#to False. Unlike with else, there can be multiple\n",
        "#elif statements following if.\n",
        "\n",
        "\n",
        "status = 500\n",
        "\n",
        "if status == 200:\n",
        "\n",
        "    print(\"OK\")\n",
        "\n",
        "elif status == 400:\n",
        "\n",
        "    print(\"Bad Request\")\n",
        "\n",
        "elif status == 500:\n",
        "\n",
        "    print(\"Internal Server Error\")\n"
      ],
      "metadata": {
        "colab": {
          "base_uri": "https://localhost:8080/"
        },
        "id": "CwXuGIZuG8CI",
        "outputId": "8c334173-0e48-4945-f809-b081241ffbc1"
      },
      "execution_count": 6,
      "outputs": [
        {
          "output_type": "stream",
          "name": "stdout",
          "text": [
            "Internal Server Error\n"
          ]
        }
      ]
    },
    {
      "cell_type": "code",
      "source": [
        "# If you want the code to print another message\n",
        "#when all conditions evaluate to False,\n",
        "#then you can incorporate else after the last elif.\n",
        "\n",
        "status = 800\n",
        "\n",
        "if status == 200:\n",
        "\n",
        "    print(\"OK\")\n",
        "\n",
        "elif status == 400:\n",
        "\n",
        "    print(\"Bad Request\")\n",
        "\n",
        "elif status == 500:\n",
        "\n",
        "    print(\"Internal Server Error\")\n",
        "\n",
        "else:\n",
        "\n",
        "    print(\"check other status\")\n",
        "\n",
        "\n",
        "#Python processes multiple elif statements differently\n",
        "#than multiple if statements. When it reaches an elif statement\n",
        "#that evaluates to True, it won’t check the following elif\n",
        "#statements. On the other hand, Python will run all\n",
        "#if statements. (Ini perbedaan dengan if statement)\n",
        "\n",
        "\n"
      ],
      "metadata": {
        "colab": {
          "base_uri": "https://localhost:8080/"
        },
        "id": "WgEPP_KJHkcR",
        "outputId": "65e6b39e-c937-438b-acef-9b5f6e81034c"
      },
      "execution_count": 7,
      "outputs": [
        {
          "output_type": "stream",
          "name": "stdout",
          "text": [
            "check other status\n"
          ]
        }
      ]
    },
    {
      "cell_type": "code",
      "source": [
        "#and  The and operator requires BOTH conditions\n",
        "#on either side of the operator to evaluate to True.\n",
        "\n",
        "status = 210\n",
        "\n",
        "if status >= 200 and status <= 226:\n",
        "\n",
        "    print(\"successful response\")\n"
      ],
      "metadata": {
        "colab": {
          "base_uri": "https://localhost:8080/"
        },
        "id": "N5B1LK16Kvd2",
        "outputId": "c6089417-3966-428d-9175-dfb24db2c441"
      },
      "execution_count": 8,
      "outputs": [
        {
          "output_type": "stream",
          "name": "stdout",
          "text": [
            "successful response\n"
          ]
        }
      ]
    },
    {
      "cell_type": "code",
      "source": [
        "#The or operator requires only one of the conditions on\n",
        "#either side of the operator to evaluate to True.\n",
        "\n",
        "status = 100\n",
        "\n",
        "if status == 100 or status == 102:\n",
        "\n",
        "    print(\"informational response\")\n"
      ],
      "metadata": {
        "colab": {
          "base_uri": "https://localhost:8080/"
        },
        "id": "nqo_P03YLV_b",
        "outputId": "4b10a205-a9d7-4168-92a6-08b783c2021c"
      },
      "execution_count": 9,
      "outputs": [
        {
          "output_type": "stream",
          "name": "stdout",
          "text": [
            "informational response\n"
          ]
        }
      ]
    },
    {
      "cell_type": "code",
      "source": [
        "#The not operator negates a given condition\n",
        "#so that it evaluates to False\n",
        "#if the condition is True and to True if it is False.\n",
        "\n",
        "status = 900\n",
        "\n",
        "if not(status >= 200 and status <= 226):\n",
        "\n",
        "    print(\"check status\")\n"
      ],
      "metadata": {
        "colab": {
          "base_uri": "https://localhost:8080/"
        },
        "id": "te2vNQ8VLmZ9",
        "outputId": "da1f2d69-997d-44e8-a2ad-e4a2638a5911"
      },
      "execution_count": 17,
      "outputs": [
        {
          "output_type": "stream",
          "name": "stdout",
          "text": [
            "check status\n"
          ]
        }
      ]
    }
  ]
}