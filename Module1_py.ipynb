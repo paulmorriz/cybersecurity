{
  "nbformat": 4,
  "nbformat_minor": 0,
  "metadata": {
    "colab": {
      "provenance": [],
      "authorship_tag": "ABX9TyNetF+KhuoqONZ20MF3rXJx",
      "include_colab_link": true
    },
    "kernelspec": {
      "name": "python3",
      "display_name": "Python 3"
    },
    "language_info": {
      "name": "python"
    }
  },
  "cells": [
    {
      "cell_type": "markdown",
      "metadata": {
        "id": "view-in-github",
        "colab_type": "text"
      },
      "source": [
        "<a href=\"https://colab.research.google.com/github/paulmorriz/cybersecurity/blob/main/Module1_py.ipynb\" target=\"_parent\"><img src=\"https://colab.research.google.com/assets/colab-badge.svg\" alt=\"Open In Colab\"/></a>"
      ]
    },
    {
      "cell_type": "code",
      "execution_count": null,
      "metadata": {
        "id": "a29odm0_MXkL"
      },
      "outputs": [],
      "source": []
    },
    {
      "cell_type": "code",
      "source": [
        "# print Hello Python\n",
        "print (\"Hello Python!\")"
      ],
      "metadata": {
        "colab": {
          "base_uri": "https://localhost:8080/"
        },
        "id": "ulomCwXkMbHC",
        "outputId": "85a7c701-fc35-4d00-f046-44ba58ebb36d"
      },
      "execution_count": null,
      "outputs": [
        {
          "output_type": "stream",
          "name": "stdout",
          "text": [
            "Hello Python!\n"
          ]
        }
      ]
    },
    {
      "cell_type": "code",
      "source": [
        "#Calculate numbers with print\n",
        "print(1+1)"
      ],
      "metadata": {
        "id": "JlJVQsSSMe5B",
        "colab": {
          "base_uri": "https://localhost:8080/"
        },
        "outputId": "64a80342-8f27-41c3-9db6-e1dab25558b5"
      },
      "execution_count": 2,
      "outputs": [
        {
          "output_type": "stream",
          "name": "stdout",
          "text": [
            "2\n"
          ]
        }
      ]
    },
    {
      "cell_type": "code",
      "source": [
        "#Determine boolean values\n",
        "print(10<5)\n",
        "print(9<12)"
      ],
      "metadata": {
        "colab": {
          "base_uri": "https://localhost:8080/"
        },
        "id": "I0a01LtICS2x",
        "outputId": "9e28bc29-2530-435f-8928-0f233bd5756b"
      },
      "execution_count": 3,
      "outputs": [
        {
          "output_type": "stream",
          "name": "stdout",
          "text": [
            "False\n",
            "True\n"
          ]
        }
      ]
    },
    {
      "cell_type": "code",
      "source": [
        "#Print a list - remember list must be placed within brackets,\n",
        "# when it prints it still has the brackets []\n",
        "\n",
        "print ([\"dtanaka\", \"mabadi\", \"aestrada\"])"
      ],
      "metadata": {
        "colab": {
          "base_uri": "https://localhost:8080/"
        },
        "id": "LQLvZ0wJDGQk",
        "outputId": "40bc2e27-53ee-492b-972c-bb41719f31e8"
      },
      "execution_count": 4,
      "outputs": [
        {
          "output_type": "stream",
          "name": "stdout",
          "text": [
            "['dtanaka', 'mabadi', 'aestrada']\n"
          ]
        }
      ]
    },
    {
      "cell_type": "code",
      "source": [
        "#Use a variable to store a device ID\n",
        "device_id = \"h32rb17\""
      ],
      "metadata": {
        "id": "Wy9OtXq9O2hT"
      },
      "execution_count": 6,
      "outputs": []
    },
    {
      "cell_type": "code",
      "source": [
        "#Call a variable\n",
        "device_id = \"h32rb17\"\n",
        "print(device_id)"
      ],
      "metadata": {
        "colab": {
          "base_uri": "https://localhost:8080/"
        },
        "id": "TVsNhJ8BO8hq",
        "outputId": "447ef0b9-e895-442e-bc4a-b3f89045dc06"
      },
      "execution_count": 7,
      "outputs": [
        {
          "output_type": "stream",
          "name": "stdout",
          "text": [
            "h32rb17\n"
          ]
        }
      ]
    },
    {
      "cell_type": "code",
      "source": [
        "#Call a variable and differentiate with print a string\n",
        "device_id = \"h32rb17\"\n",
        "print(device_id)\n",
        "print(\"m50pi31\")\n",
        "\n",
        "#But if we could use the string directly, why do we need variables?\n",
        "\n",
        "#Well, we often use variables to simplify our code or make it cleaner and easier to read. Or if we needed a very long string or number, storing it in a variable would let us use it throughout our code without typing it all out.\n"
      ],
      "metadata": {
        "colab": {
          "base_uri": "https://localhost:8080/"
        },
        "id": "Imfl9it6PCVm",
        "outputId": "c4908910-eac5-489c-9f62-82923b375145"
      },
      "execution_count": 8,
      "outputs": [
        {
          "output_type": "stream",
          "name": "stdout",
          "text": [
            "h32rb17\n",
            "m50pi31\n"
          ]
        }
      ]
    },
    {
      "cell_type": "code",
      "source": [
        "#Use the type function\n",
        "device_id = \"h32rb17\"\n",
        "data_type = type (device_id)\n",
        "print (device_id)\n",
        "print (data_type)\n"
      ],
      "metadata": {
        "colab": {
          "base_uri": "https://localhost:8080/"
        },
        "id": "er_szZnkPScl",
        "outputId": "3a14c1b8-9cd3-48ab-f43c-2820cf004719"
      },
      "execution_count": 9,
      "outputs": [
        {
          "output_type": "stream",
          "name": "stdout",
          "text": [
            "h32rb17\n",
            "<class 'str'>\n"
          ]
        }
      ]
    },
    {
      "cell_type": "code",
      "source": [
        "# Demonstrate a type error\n",
        "device_id = \"h32rb17\"\n",
        "number = 3\n",
        "print (device_id + number)"
      ],
      "metadata": {
        "colab": {
          "base_uri": "https://localhost:8080/",
          "height": 257
        },
        "id": "x_IMcaK3PbkY",
        "outputId": "6ff8e0d6-be1b-4f35-f8ee-b78b0f10b34e"
      },
      "execution_count": 10,
      "outputs": [
        {
          "output_type": "error",
          "ename": "TypeError",
          "evalue": "can only concatenate str (not \"int\") to str",
          "traceback": [
            "\u001b[0;31m---------------------------------------------------------------------------\u001b[0m",
            "\u001b[0;31mTypeError\u001b[0m                                 Traceback (most recent call last)",
            "\u001b[0;32m<ipython-input-10-3efe7ae8c0ee>\u001b[0m in \u001b[0;36m<cell line: 4>\u001b[0;34m()\u001b[0m\n\u001b[1;32m      2\u001b[0m \u001b[0mdevice_id\u001b[0m \u001b[0;34m=\u001b[0m \u001b[0;34m\"h32rb17\"\u001b[0m\u001b[0;34m\u001b[0m\u001b[0;34m\u001b[0m\u001b[0m\n\u001b[1;32m      3\u001b[0m \u001b[0mnumber\u001b[0m \u001b[0;34m=\u001b[0m \u001b[0;36m3\u001b[0m\u001b[0;34m\u001b[0m\u001b[0;34m\u001b[0m\u001b[0m\n\u001b[0;32m----> 4\u001b[0;31m \u001b[0mprint\u001b[0m \u001b[0;34m(\u001b[0m\u001b[0mdevice_id\u001b[0m \u001b[0;34m+\u001b[0m \u001b[0mnumber\u001b[0m\u001b[0;34m)\u001b[0m\u001b[0;34m\u001b[0m\u001b[0;34m\u001b[0m\u001b[0m\n\u001b[0m",
            "\u001b[0;31mTypeError\u001b[0m: can only concatenate str (not \"int\") to str"
          ]
        }
      ]
    },
    {
      "cell_type": "code",
      "source": [
        "#Reassign a variable\n",
        "\n",
        "device_id = \"h32rb17\"\n",
        "print(device_id)\n",
        "device_id =\"n73ab07\"\n",
        "print(device_id)\n",
        "\n",
        "\n",
        "#The first print statement came before reassignment, so it first prints the string of h32rb17. But the second print statement came after it changed.\n",
        "\n",
        "#That's why the second output to the screen is the string n73ab07.\n"
      ],
      "metadata": {
        "colab": {
          "base_uri": "https://localhost:8080/"
        },
        "id": "VtDN8GfQPkiJ",
        "outputId": "2b6b433f-6f66-482b-9370-8e405c59670c"
      },
      "execution_count": 11,
      "outputs": [
        {
          "output_type": "stream",
          "name": "stdout",
          "text": [
            "h32rb17\n",
            "n73ab07\n"
          ]
        }
      ]
    }
  ]
}